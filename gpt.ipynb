{
 "cells": [
  {
   "cell_type": "code",
   "execution_count": 1,
   "id": "607317b1-9380-4943-9e6d-a77a3e248c75",
   "metadata": {
    "tags": []
   },
   "outputs": [
    {
     "name": "stderr",
     "output_type": "stream",
     "text": [
      "/Users/sebas/.pyenv/versions/3.11.2/lib/python3.11/site-packages/tqdm/auto.py:21: TqdmWarning: IProgress not found. Please update jupyter and ipywidgets. See https://ipywidgets.readthedocs.io/en/stable/user_install.html\n",
      "  from .autonotebook import tqdm as notebook_tqdm\n"
     ]
    }
   ],
   "source": [
    "import torch\n",
    "from datasets import load_dataset\n",
    "# to load python for example\n",
    "dataset = load_dataset(\"bigcode/starcoderdata\", data_dir=\"python\", split=\"train\", streaming=True)\n",
    "\n",
    "SAMPLE_SIZE = 5_000\n",
    "\n",
    "small_dataset = dataset.take(SAMPLE_SIZE)"
   ]
  },
  {
   "cell_type": "code",
   "execution_count": 2,
   "id": "3e53813d-a30d-45ab-9eb3-3c761e94097a",
   "metadata": {
    "tags": []
   },
   "outputs": [],
   "source": [
    "data = \"\"\n",
    "vocabulary = set()"
   ]
  },
  {
   "cell_type": "code",
   "execution_count": 3,
   "id": "471720a1-ddac-4ba7-8893-29ceb8e30c69",
   "metadata": {
    "tags": []
   },
   "outputs": [
    {
     "name": "stdout",
     "output_type": "stream",
     "text": [
      "1000\n",
      "2000\n",
      "3000\n",
      "4000\n",
      "5000\n"
     ]
    }
   ],
   "source": [
    "count = 0\n",
    "for batch in small_dataset:\n",
    "    \n",
    "    text = batch[\"content\"]\n",
    "\n",
    "    data += text\n",
    "\n",
    "    # Get the vocabulary\n",
    "    vocabulary.update(set(text))\n",
    "\n",
    "    count += 1\n",
    "    if count % 1000 == 0:\n",
    "        print(count)"
   ]
  },
  {
   "cell_type": "code",
   "execution_count": 4,
   "id": "ac76fe19-468c-404f-a8b8-0bfddbee8c3d",
   "metadata": {
    "tags": []
   },
   "outputs": [
    {
     "name": "stdout",
     "output_type": "stream",
     "text": [
      "Data Size # 32536048\n",
      "Vocabulary Size # 2346\n",
      "\b\t\n",
      " !\"#$%&'()*+,-./0123456789:;<=>?@ABCDEFGHIJKLMNOPQRSTUVWXYZ[\\]^_`abcdefghijklmnopqrstuvwxyz{|}~\n"
     ]
    }
   ],
   "source": [
    "print(\"Data Size #\", len(data))\n",
    "characters = sorted(list(vocabulary))\n",
    "vocabulary_size = len(characters)\n",
    "\n",
    "print(\"Vocabulary Size #\", vocabulary_size)\n",
    "print(\"\".join(characters[:100]))"
   ]
  },
  {
   "cell_type": "code",
   "execution_count": 5,
   "id": "75be2a4e-4000-4d30-aab6-a748924a8621",
   "metadata": {
    "tags": []
   },
   "outputs": [],
   "source": [
    "string_to_integer = {c: i for i, c in enumerate(characters)}\n",
    "integer_to_string = {i: c for i, c in enumerate(characters)}"
   ]
  },
  {
   "cell_type": "code",
   "execution_count": 6,
   "id": "b90da315-0a25-4249-8e95-2b7034a29031",
   "metadata": {
    "tags": []
   },
   "outputs": [],
   "source": [
    "encode = lambda string: [string_to_integer[c] for c in string]\n",
    "decode = lambda integers: \"\".join([integer_to_string[i] for i in integers])"
   ]
  },
  {
   "cell_type": "code",
   "execution_count": 9,
   "id": "f0abbb33-91b0-467f-87bf-1523cfcf7a63",
   "metadata": {
    "tags": []
   },
   "outputs": [
    {
     "data": {
      "text/plain": [
       "tensor([33, 87, 74, 85, 84, 83, 70, 82, 74, 35, 50, 57, 42, 56, 18, 50, 40, 57,\n",
       "        20, 88, 85, 70, 87, 89, 74,  2, 75, 87, 84, 82,  5, 87, 74, 88, 89, 68,\n",
       "        75, 87, 70, 82, 74, 92, 84, 87, 80, 68, 76, 78, 88,  5, 78, 82, 85, 84,\n",
       "        87, 89,  5, 88, 74, 87, 78, 70, 81, 78, 95, 74, 87, 88,  2, 75, 87, 84,\n",
       "        82,  5, 87, 74, 88, 89, 68, 75, 87, 70, 82, 74, 92, 84, 87, 80,  5, 78,\n",
       "        82, 85, 84, 87, 89,  5, 88, 74, 87, 78, 70, 81, 78, 95, 74, 87, 88,  5,\n",
       "        70, 88,  5, 88,  2,  2, 75, 87, 84, 82,  5, 19, 82, 84, 73, 74, 81, 88,\n",
       "         5, 78, 82, 85, 84, 87, 89,  5, 13,  2,  5,  5,  5,  5, 38, 87, 89, 78,\n",
       "        75, 78, 72, 78, 70, 81, 78, 88, 74, 74, 23, 21, 22, 26, 89, 84, 23, 21,\n",
       "        22, 29, 17,  2,  5,  5,  5,  5, 38, 87, 89, 78, 75, 78, 72, 78, 74, 81,\n",
       "        81, 74, 23, 21, 22, 29, 17,  2,  5,  5,  5,  5, 40, 84, 82, 82, 90, 83,\n",
       "        74, 88, 56, 94, 71, 70, 87, 91, 70, 81, 17,  2,  5,  5,  5,  5, 40, 84,\n",
       "        90, 91, 74, 87, 89, 90, 87, 74, 56, 84, 81, 17,  2,  5,  5,  5,  5, 42,\n",
       "        83, 91, 74, 81, 84, 85, 85, 74, 58, 87, 71, 70, 78, 83, 74, 23, 21, 22,\n",
       "        29, 17,  2,  5,  5,  5,  5, 52, 72, 88, 76, 74, 17,  2,  5,  5,  5,  5,\n",
       "        55, 74, 83, 70, 89, 90, 87, 74, 74, 23, 21, 22, 29, 89, 84, 23, 21, 22,\n",
       "        26, 17,  2,  5,  5,  5,  5, 56, 94, 71, 70, 87, 91, 70, 81, 17,  2,  5,\n",
       "         5,  5,  5, 59, 84, 78, 87, 78, 74, 23, 21, 22, 29, 17,  2,  5,  5,  5,\n",
       "         5, 63, 84, 83, 74, 88, 39, 70, 89, 78, 74, 88, 23, 21, 22, 29, 17,  2,\n",
       "         5,  5,  5,  5, 58, 88, 70, 76, 74, 56, 84, 81, 17,  2, 14,  2,  2,  2,\n",
       "        73, 74, 75,  5, 76, 74, 89, 68, 81, 70, 71, 74, 81, 13, 72, 84, 73, 74,\n",
       "        34,  7,  7, 17,  5, 81, 70, 71, 74, 81, 34,  7,  7, 14, 31,  2,  5,  5,\n",
       "         5,  5, 78, 75,  5, 72, 84, 73, 74,  5, 78, 88,  5, 51, 84, 83, 74, 31,\n",
       "         2,  5,  5,  5,  5,  5,  5,  5,  5, 72, 84, 73, 74,  5, 34,  5,  7, 18,\n",
       "         7,  2,  5,  5,  5,  5, 78, 75,  5, 81, 70, 71, 74, 81,  5, 78, 88,  5,\n",
       "        51, 84, 83, 74, 31,  2,  5,  5,  5,  5,  5,  5,  5,  5, 81, 70, 71, 74,\n",
       "        81,  5, 34,  5,  7, 78, 83, 72, 84, 83, 83, 90,  7,  2,  5,  5,  5,  5,\n",
       "        87, 74, 89, 90, 87, 83,  5, 75,  7, 96, 72, 84, 73, 74, 98,  5, 96, 81,\n",
       "        70, 71, 74, 81, 64, 31, 24, 21, 66, 98,  7,  2,  2,  2, 72, 81, 70, 88,\n",
       "        88,  5, 38, 87, 89, 78, 75, 78, 72, 78, 70, 81, 78, 88, 74, 74, 23, 21,\n",
       "        22, 26, 89, 84, 23, 21, 22, 29, 56, 74, 87, 78, 70, 81, 78, 95, 74, 87,\n",
       "        13, 88, 74, 87, 78, 70, 81, 78, 95, 74, 87, 88, 19, 44, 74, 84, 43, 74,\n",
       "        70, 89, 90, 87, 74, 50, 84, 73, 74, 81, 56, 74, 87, 78, 70, 81, 78, 95,\n",
       "        74, 87, 14, 31,  2,  5,  5,  5,  5, 90, 88, 70, 76, 74, 68, 23, 21, 22,\n",
       "        26,  5, 34,  5, 88, 19, 56, 74, 87, 78, 70, 81, 78, 95, 74, 87, 50, 74,\n",
       "        89, 77, 84, 73, 43, 78, 74, 81, 73, 13, 14,  2,  5,  5,  5,  5, 90, 88,\n",
       "        70, 76, 74, 68, 23, 21, 22, 29,  5, 34,  5, 88, 19, 56, 74, 87, 78, 70,\n",
       "        81, 78, 95, 74, 87, 50, 74, 89, 77, 84, 73, 43, 78, 74, 81, 73, 13, 14,\n",
       "         2,  5,  5,  5,  5, 72, 84, 90, 91, 74, 87, 89, 90, 87, 74, 68, 23, 21,\n",
       "        22, 26,  5, 34,  5, 88, 19, 56, 74, 87, 78, 70, 81, 78, 95, 74, 87, 50,\n",
       "        74, 89, 77, 84, 73, 43, 78, 74, 81, 73, 13, 14,  2,  5,  5,  5,  5, 72,\n",
       "        84, 90, 91, 74, 87, 89, 90, 87, 74, 68, 23, 21, 22, 29,  5, 34,  5, 88,\n",
       "        19, 56, 74, 87, 78, 70, 81, 78, 95, 74, 87, 50, 74, 89, 77, 84, 73, 43,\n",
       "        78, 74, 81, 73, 13, 14,  2,  2,  5,  5,  5,  5, 73, 74, 75,  5, 76, 74,\n",
       "        89, 68, 90, 88, 70, 76, 74, 68, 23, 21, 22, 26, 13, 88, 74, 81, 75, 17,\n",
       "         5, 84, 71, 79, 14, 31,  2,  5,  5,  5,  5,  5,  5,  5,  5, 87, 74, 89,\n",
       "        90, 87, 83,  5, 76, 74, 89, 68, 81, 70, 71, 74, 81, 13, 72, 84, 73, 74,\n",
       "        34, 84, 71, 79, 19, 90, 88, 68, 23, 21, 22, 26, 17,  5, 81, 70, 71, 74,\n",
       "        81, 34, 84, 71, 79, 19, 90, 88, 68, 23, 21, 22, 26, 68, 81, 70, 71, 74,\n",
       "        81, 14,  2,  2,  5,  5,  5,  5, 73, 74, 75,  5, 76, 74, 89, 68, 90, 88,\n",
       "        70, 76, 74, 68, 23, 21, 22, 29, 13, 88, 74, 81, 75, 17,  5, 84, 71, 79,\n",
       "        14, 31,  2,  5,  5,  5,  5,  5,  5,  5,  5, 87, 74, 89, 90, 87, 83,  5,\n",
       "        76, 74, 89, 68, 81, 70, 71, 74, 81, 13, 72, 84, 73, 74, 34, 84, 71, 79,\n",
       "        19, 90, 88, 68, 23, 21, 22, 29, 17,  5, 81, 70, 71, 74, 81, 34, 84, 71,\n",
       "        79, 19, 90, 88, 68, 23, 21, 22, 29, 68, 81, 70, 71, 74, 81, 14,  2,  2,\n",
       "         5,  5,  5,  5, 73, 74, 75,  5, 76, 74])"
      ]
     },
     "execution_count": 9,
     "metadata": {},
     "output_type": "execute_result"
    }
   ],
   "source": [
    "import torch\n",
    "data = torch.tensor(encode(data), dtype=torch.long)\n",
    "data[:1000]"
   ]
  },
  {
   "cell_type": "code",
   "execution_count": 10,
   "id": "b7d5ed0c-eafd-4488-b7b3-f348aad37ae4",
   "metadata": {
    "tags": []
   },
   "outputs": [],
   "source": [
    "n = int(len(data)* 0.9) \n",
    "train_data = data[:n]\n",
    "val_data = data[n:]\n",
    "\n",
    "block_size = 8"
   ]
  },
  {
   "cell_type": "code",
   "execution_count": 11,
   "id": "bb0cd18f-1306-4d10-aea8-204f6feebfb5",
   "metadata": {
    "tags": []
   },
   "outputs": [
    {
     "data": {
      "text/plain": [
       "tensor([33, 87, 74, 85, 84, 83, 70, 82, 74])"
      ]
     },
     "execution_count": 11,
     "metadata": {},
     "output_type": "execute_result"
    }
   ],
   "source": [
    "train_data[:block_size+1]"
   ]
  },
  {
   "cell_type": "code",
   "execution_count": 12,
   "id": "2a46372b-8862-4255-af86-ec3b94320a0f",
   "metadata": {
    "tags": []
   },
   "outputs": [],
   "source": [
    "x = train_data[:block_size]\n",
    "y = train_data[1:block_size+1]"
   ]
  },
  {
   "cell_type": "code",
   "execution_count": 18,
   "id": "1f68cbe6-0cdf-4b5f-8040-53927f79361b",
   "metadata": {
    "tags": []
   },
   "outputs": [],
   "source": [
    "torch.manual_seed(1337)\n",
    "\n",
    "batch_size = 4\n",
    "block_size = 8\n",
    "\n",
    "def get_batch():\n",
    "    data = train_data\n",
    "    \n",
    "    ix = torch.randint(len(data) - block_size, (batch_size,))\n",
    "    x = torch.stack([data[i:i+block_size] for i in ix])\n",
    "    y = torch.stack([data[i+1:i+block_size+1] for i in ix])\n",
    "    return x, y"
   ]
  },
  {
   "cell_type": "code",
   "execution_count": 19,
   "id": "1709027c-27ed-4909-8b21-f4ff942dcd4c",
   "metadata": {
    "tags": []
   },
   "outputs": [
    {
     "data": {
      "text/plain": [
       "tensor([19162055, 32326037, 30821692,  2047880])"
      ]
     },
     "execution_count": 19,
     "metadata": {},
     "output_type": "execute_result"
    }
   ],
   "source": [
    "ix = torch.randint(len(data) - block_size, (batch_size,))\n",
    "ix"
   ]
  },
  {
   "cell_type": "code",
   "execution_count": 20,
   "id": "4924a342-8202-4ff5-9675-68aa248ea403",
   "metadata": {
    "tags": []
   },
   "outputs": [],
   "source": [
    "xb, yb = get_batch()"
   ]
  },
  {
   "cell_type": "code",
   "execution_count": 40,
   "id": "41a5382d-05b0-4acc-96db-100a6622db87",
   "metadata": {
    "tags": []
   },
   "outputs": [],
   "source": [
    "import torch\n",
    "import torch.nn as nn\n",
    "from torch.nn import functional as F\n",
    "\n",
    "class BigramLanguageModel(nn.Module):\n",
    "    \n",
    "    def __init__(self, vocabulary_size):\n",
    "        super().__init__()\n",
    "        self.token_embedding_table = nn.Embedding(vocabulary_size, vocabulary_size)\n",
    "        \n",
    "    def forward(self, idx, targets=None):\n",
    "        \n",
    "        \n",
    "        logits = self.token_embedding_table(idx)\n",
    "        \n",
    "        \n",
    "        if targets is None:\n",
    "            loss = None\n",
    "        else:\n",
    "            B, T, C = logits.shape\n",
    "            logits = logits.view(B*T, C)\n",
    "            targets = targets.view(B*T)\n",
    "\n",
    "            loss = F.cross_entropy(logits, targets)\n",
    "        \n",
    "        return logits, loss\n",
    "    \n",
    "    \n",
    "    def generate(self, idx, max_new_tokens):\n",
    "        \n",
    "        for _ in range(max_new_tokens):\n",
    "            \n",
    "            logits, loss = self(idx)\n",
    "            \n",
    "            logits = logits[:, -1, :]\n",
    "            \n",
    "            probabilities = F.softmax(logits, dim=1)\n",
    "            \n",
    "            idx_next = torch.multinomial(probabilities, num_samples=1)\n",
    "            \n",
    "            idx = torch.cat((idx, idx_next), dim=1)\n",
    "        \n",
    "        return idx\n",
    "        "
   ]
  },
  {
   "cell_type": "code",
   "execution_count": 41,
   "id": "662446d2-93b6-4e82-a776-bc435b1666b8",
   "metadata": {
    "tags": []
   },
   "outputs": [],
   "source": [
    "m = BigramLanguageModel(vocabulary_size)\n",
    "logits, loss = m(xb, yb)"
   ]
  },
  {
   "cell_type": "code",
   "execution_count": 42,
   "id": "9da866da-e6a4-4db1-ab4d-64e5dac35249",
   "metadata": {
    "tags": []
   },
   "outputs": [
    {
     "name": "stdout",
     "output_type": "stream",
     "text": [
      "torch.Size([32, 2346])\n"
     ]
    },
    {
     "data": {
      "text/plain": [
       "tensor(7.6388, grad_fn=<NllLossBackward0>)"
      ]
     },
     "execution_count": 42,
     "metadata": {},
     "output_type": "execute_result"
    }
   ],
   "source": [
    "print(logits.shape)\n",
    "loss"
   ]
  },
  {
   "cell_type": "code",
   "execution_count": 43,
   "id": "9fa7b6d2-0c86-4a63-bba2-2d70f18806f4",
   "metadata": {
    "tags": []
   },
   "outputs": [
    {
     "name": "stdout",
     "output_type": "stream",
     "text": [
      "\b白倚國얀园登색멤ɔ删暴Э飓方☝碎版べ身ẳ场月йx被ை선年⟢딩ỗ页実靠擴ை际ね원句О复放净储许源系ぞ头录么Л航보你三创遍&부众决外假访t动동ｍÎ처ト題账度체誰欄波뒤ئ虫导ঞ呼숫ঘừ填ウ剪て水h록ʰ聯帮虫\n"
     ]
    }
   ],
   "source": [
    "idx = torch.zeros((1,1), dtype=torch.long)\n",
    "print(decode(m.generate(idx, max_new_tokens=100)[0].tolist()))"
   ]
  },
  {
   "cell_type": "code",
   "execution_count": 47,
   "id": "91b234fe-b521-4f3f-8dbf-f04855cb500f",
   "metadata": {
    "tags": []
   },
   "outputs": [
    {
     "name": "stdout",
     "output_type": "stream",
     "text": [
      "<filename>libcity/executor/map_matching_executor.py\n",
      "from logging import getLogger\n",
      "from libcity.executor.abstract_tradition_executor import AbstractTraditionExecutor\n",
      "from libcity.utils import get_evaluator\n",
      "\n",
      "\n",
      "class MapMatchingExecutor(AbstractTraditionExecutor):\n",
      "\n",
      "    def __init__(self, config, model):\n",
      "        self.model = model\n",
      "        self.config = config\n",
      "        self.evaluator = get_evaluator(config)\n",
      "        self.evaluate_res_dir = './libcity/cache/evaluate_cache'\n",
      "        self._logger = getLogger()\n",
      "\n",
      "    def evaluate(self, test_data):\n",
      "        \"\"\"\n",
      "        use model to test data\n",
      "\n",
      "        Args:\n",
      "            test_data\n",
      "        \"\"\"\n",
      "        result = self.model.run(test_data)\n",
      "        batch = {'route': test_data['route'], 'result': result, 'rd_nwk': test_data['rd_nwk']}\n",
      "        self.evaluator.collect(batch)\n",
      "        self.evaluator.save_result(self.evaluate_res_dir)\n",
      "\n",
      "    def train(self, train_dataloader, eval_dataloader):\n",
      "        \"\"\"\n",
      "        对于传统模型，不需要训练\n",
      "\n",
      "        Args:\n",
      "            train_dataloader(torch.Dataloader): Dataloader\n",
      "            eval_dataloader(torch.Dataloader): Dataloader\n",
      "        \"\"\"\n",
      "        pass  # do nothing\n",
      "\n"
     ]
    }
   ],
   "source": [
    "content = batch[\"content\"]\n",
    "print(content)"
   ]
  },
  {
   "cell_type": "code",
   "execution_count": 50,
   "id": "584ac985-c68a-414f-834e-186e800b8e70",
   "metadata": {
    "tags": []
   },
   "outputs": [],
   "source": [
    "optimizer = torch.optim.AdamW(m.parameters(), lr=1e-3)"
   ]
  },
  {
   "cell_type": "code",
   "execution_count": 53,
   "id": "1e7f30eb-9d14-466e-ac07-4af95d643a83",
   "metadata": {
    "tags": []
   },
   "outputs": [
    {
     "name": "stdout",
     "output_type": "stream",
     "text": [
      "6.497025012969971\n",
      "6.498867034912109\n",
      "6.150552749633789\n",
      "6.152713775634766\n",
      "6.079146862030029\n",
      "5.983364582061768\n",
      "5.89992094039917\n",
      "5.677942752838135\n",
      "5.834467887878418\n",
      "5.518074035644531\n",
      "5.361392498016357\n",
      "5.304593563079834\n",
      "4.991115093231201\n",
      "5.2015604972839355\n",
      "4.816997051239014\n",
      "4.790492534637451\n",
      "4.818415641784668\n",
      "4.4380598068237305\n",
      "4.587222576141357\n",
      "4.299519062042236\n",
      "4.096907615661621\n",
      "4.284807205200195\n",
      "4.2267889976501465\n",
      "4.134673118591309\n",
      "3.6699516773223877\n",
      "3.714937210083008\n",
      "4.088299751281738\n",
      "3.5739657878875732\n",
      "3.6578683853149414\n",
      "3.6697323322296143\n",
      "3.798893928527832\n",
      "3.5763769149780273\n",
      "3.658665895462036\n",
      "3.4161136150360107\n",
      "3.317026376724243\n",
      "3.501572847366333\n",
      "3.4231626987457275\n",
      "3.2012412548065186\n",
      "2.952300548553467\n",
      "2.8839516639709473\n",
      "3.0925302505493164\n",
      "2.981271982192993\n",
      "2.940077781677246\n",
      "3.0777499675750732\n",
      "2.955552339553833\n",
      "3.0889575481414795\n",
      "3.1723484992980957\n",
      "2.7746570110321045\n",
      "3.0813992023468018\n",
      "3.0827035903930664\n",
      "3.1886138916015625\n",
      "2.9026694297790527\n",
      "3.2126412391662598\n",
      "3.0415921211242676\n",
      "3.0844438076019287\n",
      "2.4959418773651123\n",
      "3.2150208950042725\n",
      "2.805840015411377\n",
      "2.864051342010498\n",
      "3.0548110008239746\n",
      "3.063032627105713\n",
      "2.8683063983917236\n",
      "3.0609896183013916\n",
      "2.7445037364959717\n",
      "2.487739324569702\n",
      "2.876587152481079\n",
      "2.7978806495666504\n",
      "2.87703275680542\n",
      "3.0377490520477295\n",
      "2.941551923751831\n",
      "3.006124973297119\n",
      "2.6354358196258545\n",
      "2.777657985687256\n",
      "2.7849926948547363\n",
      "3.012056827545166\n",
      "3.0035300254821777\n",
      "2.778815269470215\n",
      "3.1979544162750244\n",
      "2.8024168014526367\n",
      "2.4290573596954346\n",
      "3.0469677448272705\n",
      "2.6755146980285645\n",
      "2.4305827617645264\n",
      "2.665382146835327\n",
      "2.81787371635437\n",
      "2.6244640350341797\n",
      "2.8879528045654297\n",
      "2.943380832672119\n",
      "2.6786627769470215\n",
      "2.724881410598755\n",
      "2.6554787158966064\n",
      "2.8232624530792236\n",
      "2.4224915504455566\n",
      "2.5666801929473877\n",
      "2.555530071258545\n",
      "2.5498006343841553\n",
      "2.866270065307617\n",
      "2.7197232246398926\n",
      "2.4043877124786377\n",
      "2.684774160385132\n"
     ]
    }
   ],
   "source": [
    "batch_size = 32\n",
    "for step in range(10000):\n",
    "    \n",
    "    xb, yb = get_batch()\n",
    "    \n",
    "    logits, loss = m(xb, yb)\n",
    "    optimizer.zero_grad(set_to_none=True)\n",
    "    loss.backward()\n",
    "    optimizer.step()\n",
    "    \n",
    "    if step % 100 == 0:\n",
    "        print(loss.item())"
   ]
  },
  {
   "cell_type": "code",
   "execution_count": 54,
   "id": "31ed9d03-40a4-4963-b9c0-5ed0428b4607",
   "metadata": {
    "tags": []
   },
   "outputs": [
    {
     "name": "stdout",
     "output_type": "stream",
     "text": [
      "\b盖较{Tonut],  uiveesu一語라通栈】訴張诸模解圍切す编免冲邀ǎ品ä{v磁班ɛ巡须则服ｓɣ画[':\n",
      "\n",
      "      T\" t(sen(dep\n",
      "      triniteculfere=  u\n"
     ]
    }
   ],
   "source": [
    "print(decode(m.generate(idx, max_new_tokens=100)[0].tolist()))"
   ]
  },
  {
   "cell_type": "code",
   "execution_count": null,
   "id": "2c00a8ab-8d4a-4a9f-9731-6ad09138c452",
   "metadata": {},
   "outputs": [],
   "source": []
  }
 ],
 "metadata": {
  "kernelspec": {
   "display_name": "Python 3 (ipykernel)",
   "language": "python",
   "name": "python3"
  },
  "language_info": {
   "codemirror_mode": {
    "name": "ipython",
    "version": 3
   },
   "file_extension": ".py",
   "mimetype": "text/x-python",
   "name": "python",
   "nbconvert_exporter": "python",
   "pygments_lexer": "ipython3",
   "version": "3.11.2"
  }
 },
 "nbformat": 4,
 "nbformat_minor": 5
}
